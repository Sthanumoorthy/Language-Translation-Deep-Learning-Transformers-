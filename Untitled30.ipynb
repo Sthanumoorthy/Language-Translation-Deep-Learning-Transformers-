{
  "cells": [
    {
      "cell_type": "code",
      "execution_count": 4,
      "metadata": {
        "id": "odkB189fj-FD"
      },
      "outputs": [],
      "source": [
        "import numpy as np\n",
        "import pandas as pd\n",
        "from google.colab import drive\n",
        "import matplotlib.pyplot as plt\n",
        "from keras.models import Model, Sequential\n",
        "from keras.layers import Input,LSTM, Dense, Embedding, Attention\n",
        "from keras.layers import TimeDistributed, RepeatVector,Bidirectional\n",
        "from keras.preprocessing.text import Tokenizer\n",
        "from tensorflow.keras.preprocessing.sequence import pad_sequences\n",
        "from keras.utils import to_categorical, plot_model\n",
        "from sklearn.model_selection import train_test_split\n",
        "import re\n",
        "import string\n",
        "from unicodedata import normalize"
      ]
    },
    {
      "cell_type": "code",
      "execution_count": 5,
      "metadata": {
        "id": "-NhEGyV7kLzH"
      },
      "outputs": [],
      "source": [
        "def load_dataset(filepath):\n",
        "    df = pd.read_csv(filepath,encoding='utf-8')\n",
        "    print(\"Number of records:\",len(df))\n",
        "    return df"
      ]
    },
    {
      "cell_type": "code",
      "execution_count": 7,
      "metadata": {
        "colab": {
          "base_uri": "https://localhost:8080/"
        },
        "id": "IhiXkKVRl8-B",
        "outputId": "86a68e7f-fecc-4254-df4f-9ab86fb4e7d7"
      },
      "outputs": [
        {
          "name": "stdout",
          "output_type": "stream",
          "text": [
            "Drive already mounted at /content/drive; to attempt to forcibly remount, call drive.mount(\"/content/drive\", force_remount=True).\n",
            "  English words/sentences French words/sentences\n",
            "0                     Hi.                 Salut!\n",
            "1                    Run!                Cours !\n",
            "2                    Run!               Courez !\n",
            "3                    Who?                  Qui ?\n",
            "4                    Wow!             Ça alors !\n"
          ]
        }
      ],
      "source": [
        "#df = load_dataset(r'/kaggle/input/language-translation-englishfrench/eng_-french.csv')\n",
        "drive.mount('/content/drive')\n",
        "file_path = '/content/eng_-french.csv'\n",
        "df = pd.read_csv(file_path)\n",
        "print(df.head())"
      ]
    },
    {
      "cell_type": "code",
      "execution_count": 8,
      "metadata": {
        "id": "LalPROPGmLe_"
      },
      "outputs": [],
      "source": [
        "from transformers import pipeline\n",
        "from nltk.translate.bleu_score import sentence_bleu, SmoothingFunction\n",
        "from nltk.tokenize import RegexpTokenizer"
      ]
    },
    {
      "cell_type": "code",
      "execution_count": 10,
      "metadata": {
        "id": "j8gVxkzQmLjx"
      },
      "outputs": [],
      "source": [
        "# Create a dictionary of English-French tokens showing multiple French words for each unique English word\n",
        "eng2fr = {}\n",
        "for eng, fr in df.itertuples(index=False):\n",
        "    if eng not in eng2fr:\n",
        "        eng2fr[eng] = []\n",
        "    eng2fr[eng].append(fr)\n"
      ]
    },
    {
      "cell_type": "code",
      "execution_count": 11,
      "metadata": {
        "colab": {
          "base_uri": "https://localhost:8080/"
        },
        "id": "0UgPf1mVmLlm",
        "outputId": "f7b8b073-59cb-4f18-d750-aa9c569d6504"
      },
      "outputs": [
        {
          "data": {
            "text/plain": [
              "{'Hi.': ['Salut!'],\n",
              " 'Run!': ['Cours\\u202f!', 'Courez\\u202f!'],\n",
              " 'Who?': ['Qui ?'],\n",
              " 'Wow!': ['Ça alors\\u202f!'],\n",
              " 'Fire!': ['Au feu !'],\n",
              " 'Help!': [\"À l'aide\\u202f!\"],\n",
              " 'Jump.': ['Saute.'],\n",
              " 'Stop!': ['Ça suffit\\u202f!', 'Stop\\u202f!', 'Arrête-toi !'],\n",
              " 'Wait!': ['Attends !', 'Attendez !'],\n",
              " 'Go on.': ['Poursuis.', 'Continuez.', 'Poursuivez.']}"
            ]
          },
          "execution_count": 11,
          "metadata": {},
          "output_type": "execute_result"
        }
      ],
      "source": [
        "dict(list(eng2fr.items())[0:10])"
      ]
    },
    {
      "cell_type": "code",
      "execution_count": 13,
      "metadata": {
        "id": "RVgt4dbam4iq"
      },
      "outputs": [],
      "source": [
        "from nltk.tokenize import RegexpTokenizer\n",
        "import numpy as np\n",
        "\n",
        "eng2fr_tokens = {}\n",
        "tokenizer = RegexpTokenizer(r'\\w+')\n",
        "\n",
        "for eng, fr_list in eng2fr.items():\n",
        "    fr_tokens = []\n",
        "    for text in fr_list:\n",
        "        if isinstance(text, str):  # Check if the text is a string (not NaN)\n",
        "            tokens = tokenizer.tokenize(text.lower())\n",
        "            fr_tokens.append(tokens)\n",
        "    eng2fr_tokens[eng] = fr_tokens\n"
      ]
    },
    {
      "cell_type": "code",
      "execution_count": 14,
      "metadata": {
        "colab": {
          "base_uri": "https://localhost:8080/"
        },
        "id": "IDsqRPLgm4xc",
        "outputId": "d4821593-ae82-4abb-8715-1b66aabfebdb"
      },
      "outputs": [
        {
          "data": {
            "text/plain": [
              "{'Hi.': [['salut']],\n",
              " 'Run!': [['cours'], ['courez']],\n",
              " 'Who?': [['qui']],\n",
              " 'Wow!': [['ça', 'alors']],\n",
              " 'Fire!': [['au', 'feu']],\n",
              " 'Help!': [['à', 'l', 'aide']],\n",
              " 'Jump.': [['saute']],\n",
              " 'Stop!': [['ça', 'suffit'], ['stop'], ['arrête', 'toi']],\n",
              " 'Wait!': [['attends'], ['attendez']],\n",
              " 'Go on.': [['poursuis'], ['continuez'], ['poursuivez']]}"
            ]
          },
          "execution_count": 14,
          "metadata": {},
          "output_type": "execute_result"
        }
      ],
      "source": [
        "dict(list(eng2fr_tokens.items())[0:10])"
      ]
    },
    {
      "cell_type": "code",
      "execution_count": 15,
      "metadata": {
        "colab": {
          "base_uri": "https://localhost:8080/"
        },
        "id": "5u9u0WNhnS4X",
        "outputId": "b6fd2433-cad1-4bd8-b0bb-59cf137938c4"
      },
      "outputs": [
        {
          "name": "stdout",
          "output_type": "stream",
          "text": [
            "Collecting sacremoses\n",
            "  Downloading sacremoses-0.1.1-py3-none-any.whl (897 kB)\n",
            "\u001b[?25l     \u001b[90m━━━━━━━━━━━━━━━━━━━━━━━━━━━━━━━━━━━━━━━━\u001b[0m \u001b[32m0.0/897.5 kB\u001b[0m \u001b[31m?\u001b[0m eta \u001b[36m-:--:--\u001b[0m\r\u001b[2K     \u001b[91m━━━━━━\u001b[0m\u001b[90m╺\u001b[0m\u001b[90m━━━━━━━━━━━━━━━━━━━━━━━━━━━━━━━━━\u001b[0m \u001b[32m143.4/897.5 kB\u001b[0m \u001b[31m4.0 MB/s\u001b[0m eta \u001b[36m0:00:01\u001b[0m\r\u001b[2K     \u001b[91m━━━━━━━━━━━━━━━━━━━━━━━━━━━━━━━━━━━━━━━\u001b[0m\u001b[91m╸\u001b[0m \u001b[32m890.9/897.5 kB\u001b[0m \u001b[31m13.1 MB/s\u001b[0m eta \u001b[36m0:00:01\u001b[0m\r\u001b[2K     \u001b[90m━━━━━━━━━━━━━━━━━━━━━━━━━━━━━━━━━━━━━━━━\u001b[0m \u001b[32m897.5/897.5 kB\u001b[0m \u001b[31m11.1 MB/s\u001b[0m eta \u001b[36m0:00:00\u001b[0m\n",
            "\u001b[?25hRequirement already satisfied: regex in /usr/local/lib/python3.10/dist-packages (from sacremoses) (2023.12.25)\n",
            "Requirement already satisfied: click in /usr/local/lib/python3.10/dist-packages (from sacremoses) (8.1.7)\n",
            "Requirement already satisfied: joblib in /usr/local/lib/python3.10/dist-packages (from sacremoses) (1.3.2)\n",
            "Requirement already satisfied: tqdm in /usr/local/lib/python3.10/dist-packages (from sacremoses) (4.66.1)\n",
            "Installing collected packages: sacremoses\n",
            "Successfully installed sacremoses-0.1.1\n"
          ]
        }
      ],
      "source": [
        "!pip install sacremoses"
      ]
    },
    {
      "cell_type": "markdown",
      "metadata": {
        "id": "8_q6Wke6nZWA"
      },
      "source": []
    },
    {
      "cell_type": "code",
      "execution_count": 18,
      "metadata": {
        "id": "z5BRPwAtn3zj"
      },
      "outputs": [],
      "source": [
        "translator = pipeline('translation', model='Helsinki-NLP/opus-mt-en-fr')\n"
      ]
    },
    {
      "cell_type": "code",
      "execution_count": 19,
      "metadata": {
        "colab": {
          "base_uri": "https://localhost:8080/"
        },
        "id": "ttsUXnFvnaKC",
        "outputId": "1634de07-2680-437a-fc14-186248b2fb22"
      },
      "outputs": [
        {
          "data": {
            "text/plain": [
              "[{'translation_text': \"J'aime les œufs et le chocolat\"}]"
            ]
          },
          "execution_count": 19,
          "metadata": {},
          "output_type": "execute_result"
        }
      ],
      "source": [
        "translator('I like eggs and chocolate')"
      ]
    },
    {
      "cell_type": "code",
      "execution_count": 33,
      "metadata": {
        "colab": {
          "base_uri": "https://localhost:8080/"
        },
        "id": "Y9NWHEz7oFS1",
        "outputId": "ad8740ce-48bf-4456-90b9-d1faf7be233d"
      },
      "outputs": [
        {
          "data": {
            "text/plain": [
              "16246"
            ]
          },
          "execution_count": 33,
          "metadata": {},
          "output_type": "execute_result"
        }
      ],
      "source": [
        "eng_phrases = list(eng2fr.keys())\n",
        "len(eng_phrases)\n"
      ]
    },
    {
      "cell_type": "code",
      "execution_count": 34,
      "metadata": {
        "id": "9xlEs4zEoFYU"
      },
      "outputs": [],
      "source": [
        "eng_phrases_subset = eng_phrases[10000:21000]\n",
        "translations = translator(eng_phrases_subset)"
      ]
    },
    {
      "cell_type": "code",
      "execution_count": 35,
      "metadata": {
        "colab": {
          "base_uri": "https://localhost:8080/"
        },
        "id": "oyLPykV6oFbz",
        "outputId": "dfd28668-d228-442f-ff11-a0e40b3636bc"
      },
      "outputs": [
        {
          "data": {
            "text/plain": [
              "['They all watched.',\n",
              " 'They are Russian.',\n",
              " 'They are arguing.',\n",
              " 'They are artists.',\n",
              " 'They are doctors.',\n",
              " 'They are singers.',\n",
              " 'They blocked her.',\n",
              " 'They calmed down.',\n",
              " 'They deceived us.',\n",
              " 'They deserved it.',\n",
              " 'They despise you.',\n",
              " 'They did nothing.',\n",
              " \"They didn't know.\",\n",
              " 'They disappeared.',\n",
              " 'They go shopping.',\n",
              " 'They got married.',\n",
              " 'They grew closer.',\n",
              " 'They had no food.',\n",
              " 'They have a plan.',\n",
              " 'They lied to you.',\n",
              " 'They like apples.',\n",
              " 'They live nearby.',\n",
              " 'They love coffee.',\n",
              " 'They made her go.',\n",
              " 'They saw nothing.',\n",
              " 'They took a walk.',\n",
              " 'They trusted you.',\n",
              " 'They were hungry.',\n",
              " 'They work for me.',\n",
              " \"They'll kill you.\",\n",
              " \"They'll remember.\",\n",
              " \"They're all dead.\",\n",
              " \"They're all fake.\",\n",
              " \"They're all gone.\",\n",
              " \"They're all here.\",\n",
              " \"They're all mine.\",\n",
              " \"They're all nuts.\",\n",
              " \"They're all safe.\",\n",
              " \"They're amateurs.\",\n",
              " \"They're brothers.\",\n",
              " \"They're fighting.\",\n",
              " \"They're involved.\",\n",
              " \"They're not dead.\",\n",
              " \"They're not evil.\",\n",
              " \"They're not mine.\",\n",
              " \"They're so funny.\",\n",
              " \"They're stalling.\",\n",
              " \"They're students.\",\n",
              " \"They're traitors.\",\n",
              " \"They've all left.\",\n",
              " 'Things got weird.',\n",
              " 'This and no more.',\n",
              " 'This bed is cold.',\n",
              " 'This book is new.',\n",
              " 'This book is old.',\n",
              " 'This car is fast.',\n",
              " 'This car is mine.',\n",
              " \"This doesn't fit.\",\n",
              " 'This dog is mine.',\n",
              " 'This feels right.',\n",
              " 'This feels weird.',\n",
              " 'This game is fun.',\n",
              " \"This guy's tough.\",\n",
              " 'This hat is mine.',\n",
              " 'This is Room 839.',\n",
              " 'This is a hybrid.',\n",
              " 'This is a pencil.',\n",
              " 'This is accurate.',\n",
              " 'This is an apple.',\n",
              " 'This is an order.',\n",
              " 'This is annoying.',\n",
              " 'This is bad news.',\n",
              " 'This is big news.',\n",
              " 'This is hopeless.',\n",
              " 'This is insanity.',\n",
              " 'This is my coach.',\n",
              " 'This is my horse.',\n",
              " 'This is my house.',\n",
              " 'This is my money.',\n",
              " 'This is my phone.',\n",
              " 'This is nonsense.',\n",
              " 'This is not good.',\n",
              " 'This is not safe.',\n",
              " 'This is not salt.',\n",
              " 'This is not true.',\n",
              " 'This is official.',\n",
              " 'This is old news.',\n",
              " 'This is our home.',\n",
              " 'This is personal.',\n",
              " 'This is possible.',\n",
              " 'This is puzzling.',\n",
              " 'This is red wine.',\n",
              " 'This is relaxing.',\n",
              " 'This is required.',\n",
              " 'This is sabotage.',\n",
              " 'This is shameful.',\n",
              " 'This is so crazy.',\n",
              " 'This is terrible.',\n",
              " 'This is the norm.',\n",
              " 'This is too hard.',\n",
              " 'This is too long.',\n",
              " 'This is too much.',\n",
              " 'This is your dog.',\n",
              " 'This is your key.',\n",
              " \"This isn't funny.\",\n",
              " \"This isn't legal.\",\n",
              " \"This isn't money.\",\n",
              " \"This isn't music.\",\n",
              " \"This isn't sugar.\",\n",
              " 'This made me sad.',\n",
              " 'This makes sense.',\n",
              " 'This one is ours.',\n",
              " \"This one's on me.\",\n",
              " 'This pen is mine.',\n",
              " \"This seat's free.\",\n",
              " 'This seems risky.',\n",
              " 'This smells good.',\n",
              " 'This tastes good.',\n",
              " 'This was my idea.',\n",
              " 'Those are my CDs.',\n",
              " 'Tom almost cried.',\n",
              " 'Tom ate my lunch.',\n",
              " 'Tom avoided Mary.',\n",
              " 'Tom bought a gun.',\n",
              " 'Tom brought that.',\n",
              " 'Tom built a raft.',\n",
              " 'Tom can run fast.',\n",
              " \"Tom can't see us.\",\n",
              " 'Tom changed jobs.',\n",
              " 'Tom clearly lied.',\n",
              " 'Tom cooks for us.',\n",
              " 'Tom coughs a lot.',\n",
              " \"Tom didn't laugh.\",\n",
              " 'Tom died at home.',\n",
              " 'Tom died from TB.',\n",
              " 'Tom died in 2003.',\n",
              " \"Tom doesn't know.\",\n",
              " \"Tom doesn't read.\",\n",
              " 'Tom drinks a lot.',\n",
              " 'Tom got the part.',\n",
              " 'Tom got very mad.',\n",
              " 'Tom had a vision.',\n",
              " 'Tom had jeans on.',\n",
              " 'Tom had to leave.',\n",
              " 'Tom has a big TV.',\n",
              " 'Tom has a rabbit.',\n",
              " 'Tom has a sister.',\n",
              " 'Tom has big lips.',\n",
              " 'Tom has charisma.',\n",
              " 'Tom has chickens.',\n",
              " 'Tom has red hair.',\n",
              " 'Tom has two jobs.',\n",
              " 'Tom hates school.',\n",
              " 'Tom hates sports.',\n",
              " 'Tom helped again.',\n",
              " 'Tom hurt himself.',\n",
              " \"Tom is Mary's ex.\",\n",
              " 'Tom is a dentist.',\n",
              " 'Tom is a dreamer.',\n",
              " 'Tom is a drummer.',\n",
              " 'Tom is a gourmet.',\n",
              " 'Tom is a gymnast.',\n",
              " 'Tom is a monster.',\n",
              " 'Tom is a mystery.',\n",
              " 'Tom is a student.',\n",
              " 'Tom is all alone.',\n",
              " 'Tom is all right.',\n",
              " 'Tom is an intern.',\n",
              " 'Tom is an orphan.',\n",
              " \"Tom is at Mary's.\",\n",
              " 'Tom is at school.',\n",
              " 'Tom is bilingual.',\n",
              " 'Tom is dangerous.',\n",
              " 'Tom is forgetful.',\n",
              " 'Tom is important.',\n",
              " 'Tom is like that.',\n",
              " 'Tom is mad at us.',\n",
              " 'Tom is merciless.',\n",
              " 'Tom is my friend.',\n",
              " 'Tom is no threat.',\n",
              " 'Tom is obstinate.',\n",
              " 'Tom is on campus.',\n",
              " 'Tom is our guest.',\n",
              " 'Tom is real cute.',\n",
              " 'Tom is the owner.',\n",
              " 'Tom is too young.',\n",
              " 'Tom is very mean.',\n",
              " \"Tom isn't a hero.\",\n",
              " \"Tom isn't crying.\",\n",
              " \"Tom isn't hungry.\",\n",
              " \"Tom isn't in bed.\",\n",
              " \"Tom isn't joking.\",\n",
              " \"Tom isn't my son.\",\n",
              " \"Tom isn't sneaky.\",\n",
              " \"Tom isn't strong.\",\n",
              " \"Tom isn't stupid.\",\n",
              " 'Tom kept digging.',\n",
              " 'Tom kept reading.',\n",
              " 'Tom kept singing.',\n",
              " 'Tom killed a man.',\n",
              " 'Tom likes cheese.',\n",
              " 'Tom likes hockey.',\n",
              " 'Tom likes ponies.',\n",
              " 'Tom likes to run.',\n",
              " 'Tom looked happy.',\n",
              " 'Tom looked young.',\n",
              " 'Tom lost his hat.',\n",
              " 'Tom lost his job.',\n",
              " 'Tom lost the bet.',\n",
              " 'Tom loves to ski.',\n",
              " 'Tom needs a bath.',\n",
              " 'Tom never forgot.',\n",
              " 'Tom never sleeps.',\n",
              " 'Tom often smiles.',\n",
              " 'Tom plays tennis.',\n",
              " 'Tom punched Mary.',\n",
              " 'Tom quit his job.',\n",
              " 'Tom quit smoking.',\n",
              " 'Tom reads slowly.',\n",
              " 'Tom should leave.',\n",
              " 'Tom sighed again.',\n",
              " 'Tom slapped Mary.',\n",
              " 'Tom smells awful.',\n",
              " 'Tom smells weird.',\n",
              " 'Tom sounds angry.',\n",
              " 'Tom spoke French.',\n",
              " 'Tom spoke calmly.',\n",
              " 'Tom steals stuff.',\n",
              " 'Tom stopped Mary.',\n",
              " 'Tom studies hard.',\n",
              " 'Tom swears a lot.',\n",
              " 'Tom took the job.',\n",
              " 'Tom walks slowly.',\n",
              " 'Tom wants a beer.',\n",
              " 'Tom was abducted.',\n",
              " 'Tom was barefoot.',\n",
              " 'Tom was cheerful.',\n",
              " 'Tom was selected.',\n",
              " 'Tom was unshaven.',\n",
              " 'Tom was upstairs.',\n",
              " \"Tom wasn't alone.\",\n",
              " \"Tom wasn't crazy.\",\n",
              " \"Tom wasn't drunk.\",\n",
              " 'Tom went fishing.',\n",
              " 'Tom went running.',\n",
              " 'Tom will find it.',\n",
              " 'Tom will kill me.',\n",
              " 'Tom will like it.',\n",
              " 'Tom won the game.',\n",
              " \"Tom won't eat it.\",\n",
              " \"Tom won't retire.\",\n",
              " 'Tom wore goggles.',\n",
              " \"Tom's big-headed.\",\n",
              " \"Tom's distracted.\",\n",
              " 'Trust me on that.',\n",
              " 'Trust me on this.',\n",
              " 'Try another door.',\n",
              " 'Try it once more.',\n",
              " 'Try not to laugh.',\n",
              " 'Try not to panic.',\n",
              " 'Try not to worry.',\n",
              " 'Try some of this.',\n",
              " 'Try this instead.',\n",
              " 'Try to calm down.',\n",
              " 'Try to go slower.',\n",
              " 'Try to look busy.',\n",
              " 'Turn right there.',\n",
              " 'Turn to the left.',\n",
              " \"Wait! I'm coming!\",\n",
              " 'Walk ahead of me.',\n",
              " \"War's not pretty.\",\n",
              " 'Was anybody hurt?',\n",
              " 'Was it a robbery?',\n",
              " 'Was it necessary?',\n",
              " 'Was that so hard?',\n",
              " 'Was there a fire?',\n",
              " 'Was there a note?',\n",
              " \"Wasn't it enough?\",\n",
              " 'Watch your speed.',\n",
              " 'Watch yourselves!',\n",
              " 'Watch yourselves.',\n",
              " 'Water the plants.',\n",
              " 'We all have kids.',\n",
              " 'We arrived first.',\n",
              " 'We ate swordfish.',\n",
              " 'We ate the pizza.',\n",
              " 'We began to kiss.',\n",
              " 'We both competed.',\n",
              " 'We both love Tom.',\n",
              " 'We both love you.',\n",
              " 'We came together.',\n",
              " 'We can all dream.',\n",
              " 'We can still win.',\n",
              " \"We can't be sure.\",\n",
              " \"We can't do that.\",\n",
              " \"We can't give up.\",\n",
              " \"We can't go back.\",\n",
              " 'We considered it.',\n",
              " 'We demand action.',\n",
              " 'We depend on you.',\n",
              " 'We enjoy talking.',\n",
              " 'We found it here.',\n",
              " 'We gave our word.',\n",
              " 'We got separated.',\n",
              " 'We got too close.',\n",
              " 'We had a bad day.',\n",
              " 'We hate violence.',\n",
              " 'We have a crisis.',\n",
              " 'We have a theory.',\n",
              " 'We have homework.',\n",
              " 'We have injuries.',\n",
              " 'We have no money.',\n",
              " 'We have no proof.',\n",
              " 'We have no water.',\n",
              " 'We have pictures.',\n",
              " 'We have to focus.',\n",
              " 'We have to split.',\n",
              " 'We have two ears.',\n",
              " 'We have two kids.',\n",
              " 'We have two sons.',\n",
              " \"We haven't eaten.\",\n",
              " 'We heard a noise.',\n",
              " 'We heard screams.',\n",
              " 'We just did that.',\n",
              " 'We just got here.',\n",
              " 'We kept in touch.',\n",
              " 'We kept our word.',\n",
              " 'We know all this.',\n",
              " 'We know it works.',\n",
              " 'We left by train.',\n",
              " 'We left together.',\n",
              " 'We like children.',\n",
              " 'We live in peace.',\n",
              " 'We live together.',\n",
              " 'We lost the game.',\n",
              " 'We make mistakes.',\n",
              " 'We mean business.',\n",
              " 'We meant no harm.',\n",
              " 'We met in Boston.',\n",
              " 'We met last week.',\n",
              " 'We met on Sunday.',\n",
              " 'We must continue.',\n",
              " 'We must evacuate.',\n",
              " 'We must fix this.',\n",
              " 'We must sit down.',\n",
              " 'We must withdraw.',\n",
              " 'We need evidence.',\n",
              " 'We need exercise.',\n",
              " 'We need somebody.',\n",
              " 'We need supplies.',\n",
              " 'We need the rain.',\n",
              " 'We need to leave.',\n",
              " 'We need you back.',\n",
              " 'We never do that.',\n",
              " 'We only want you.',\n",
              " 'We saw something.',\n",
              " 'We spoke briefly.',\n",
              " 'We told everyone.',\n",
              " 'We want to leave.',\n",
              " 'We were ambushed.',\n",
              " 'We were captured.',\n",
              " 'We were mistaken.',\n",
              " 'We were partners.',\n",
              " 'We were so close.',\n",
              " 'We were so proud.',\n",
              " 'We were soldiers.',\n",
              " 'We were together.',\n",
              " 'We were too late.',\n",
              " \"We weren't happy.\",\n",
              " \"We weren't lucky.\",\n",
              " 'We will fix this.',\n",
              " 'We will not fail.',\n",
              " 'We wish you luck.',\n",
              " 'We won the match.',\n",
              " \"We won't do that.\",\n",
              " 'We work together.',\n",
              " \"We'd better wait.\",\n",
              " \"We'll be careful.\",\n",
              " \"We'll be working.\",\n",
              " \"We'll find a way.\",\n",
              " \"We'll follow Tom.\",\n",
              " \"We'll meet again.\",\n",
              " \"We'll never know.\",\n",
              " \"We'll pay for it.\",\n",
              " \"We'll talk later.\",\n",
              " \"We'll work on it.\",\n",
              " \"We're a bit late.\",\n",
              " \"We're all afraid.\",\n",
              " \"We're all hungry.\",\n",
              " \"We're all scared.\",\n",
              " \"We're all single.\",\n",
              " \"We're all unique.\",\n",
              " \"We're alone here.\",\n",
              " \"We're astonished.\",\n",
              " \"We're back early.\",\n",
              " \"We're being used.\",\n",
              " \"We're both right.\",\n",
              " \"We're both wrong.\",\n",
              " \"We're classmates.\",\n",
              " \"We're doing well.\",\n",
              " \"We're downsizing.\",\n",
              " \"We're fascinated.\",\n",
              " \"We're getting it.\",\n",
              " \"We're going back.\",\n",
              " \"We're going down.\",\n",
              " \"We're going east.\",\n",
              " \"We're going west.\",\n",
              " \"We're half right.\",\n",
              " \"We're having fun.\",\n",
              " \"We're here alone.\",\n",
              " \"We're here early.\",\n",
              " \"We're historians.\",\n",
              " \"We're home early.\",\n",
              " \"We're in a hurry.\",\n",
              " \"We're in college.\",\n",
              " \"We're in control.\",\n",
              " \"We're in trouble.\",\n",
              " \"We're just lucky.\",\n",
              " \"We're just tired.\",\n",
              " \"We're lifeguards.\",\n",
              " \"We're meditating.\",\n",
              " \"We're not buying.\",\n",
              " \"We're not dating.\",\n",
              " \"We're not eating.\",\n",
              " \"We're not family.\",\n",
              " \"We're not guilty.\",\n",
              " \"We're not moving.\",\n",
              " \"We're not needed.\",\n",
              " \"We're not stupid.\",\n",
              " \"We're on our own.\",\n",
              " \"We're on our way.\",\n",
              " \"We're prejudiced.\",\n",
              " \"We're right here.\",\n",
              " \"We're soul mates.\",\n",
              " \"We're speechless.\",\n",
              " \"We're still here.\",\n",
              " \"We're successful.\",\n",
              " \"We're surrounded.\",\n",
              " \"We're taking off.\",\n",
              " \"We're the owners.\",\n",
              " \"We're undressing.\",\n",
              " \"We're unemployed.\",\n",
              " \"We're untalented.\",\n",
              " \"We're very close.\",\n",
              " \"We're very happy.\",\n",
              " \"We've done a lot.\",\n",
              " \"We've got a boat.\",\n",
              " \"We've got a leak.\",\n",
              " \"We've got enough.\",\n",
              " 'Well, here we go.',\n",
              " 'Were you at work?',\n",
              " 'Were you excited?',\n",
              " 'Were you shot at?',\n",
              " 'Were you sincere?',\n",
              " 'Were you unhappy?',\n",
              " 'What a bad movie!',\n",
              " 'What a big eater!',\n",
              " 'What a big truck!',\n",
              " 'What a cute baby!',\n",
              " 'What a cute girl!',\n",
              " 'What a funny man!',\n",
              " 'What a good shot!',\n",
              " 'What a heavy bag!',\n",
              " 'What a hypocrite!',\n",
              " 'What a nice bike!',\n",
              " 'What a nightmare!',\n",
              " 'What a smart guy!',\n",
              " 'What can be done?',\n",
              " 'What can they do?',\n",
              " 'What can you say?',\n",
              " 'What can you see?',\n",
              " 'What causes that?',\n",
              " 'What could it be?',\n",
              " 'What did she say?',\n",
              " 'What did we miss?',\n",
              " 'What did you buy?',\n",
              " 'What did you eat?',\n",
              " 'What did you get?',\n",
              " 'What did you say?',\n",
              " 'What did you see?',\n",
              " 'What do bees eat?',\n",
              " 'What do you have?',\n",
              " 'What do you know?',\n",
              " 'What do you like?',\n",
              " 'What do you mean?',\n",
              " 'What do you need?',\n",
              " 'What do you seek?',\n",
              " 'What do you want?',\n",
              " 'What does he say?',\n",
              " 'What does she do?',\n",
              " 'What else is new?',\n",
              " 'What happens now?',\n",
              " 'What have I done?',\n",
              " 'What have we got?',\n",
              " 'What if I refuse?',\n",
              " 'What if I say no?',\n",
              " 'What if he fails?',\n",
              " 'What is all this?',\n",
              " 'What is going on?',\n",
              " 'What is he after?',\n",
              " 'What is he doing?',\n",
              " 'What is his name?',\n",
              " 'What is it about?',\n",
              " 'What is our plan?',\n",
              " 'What is the news?',\n",
              " 'What is this for?',\n",
              " 'What is your age?',\n",
              " 'What month is it?',\n",
              " 'What shall we do?',\n",
              " 'What should I do?',\n",
              " 'What was I to do?',\n",
              " 'What will we eat?',\n",
              " 'What will you do?',\n",
              " 'What woke you up?',\n",
              " \"What's for lunch?\",\n",
              " \"What's happening?\",\n",
              " \"What's it called?\",\n",
              " \"What's she doing?\",\n",
              " \"What's that bird?\",\n",
              " \"What's the catch?\",\n",
              " \"What's the hurry?\",\n",
              " \"What's the score?\",\n",
              " \"What's this mess?\",\n",
              " \"What's this room?\",\n",
              " \"What's your beef?\",\n",
              " \"What's your idea?\",\n",
              " \"What's your name?\",\n",
              " \"What's your plan?\",\n",
              " \"What's your size?\",\n",
              " \"What's your wish?\",\n",
              " \"What've you done?\",\n",
              " 'Whatever you say.',\n",
              " 'When are you off?',\n",
              " 'When do we leave?',\n",
              " 'When do we start?',\n",
              " 'When does it end?',\n",
              " 'When will you go?',\n",
              " 'Where are we now?',\n",
              " 'Where can I park?',\n",
              " 'Where did you go?',\n",
              " 'Where do I sleep?',\n",
              " 'Where is my beer?',\n",
              " 'Where is my belt?',\n",
              " 'Where is my book?',\n",
              " 'Where is my comb?',\n",
              " 'Where is my seat?',\n",
              " 'Where is the cat?',\n",
              " 'Where is the dog?',\n",
              " \"Where's a mirror?\",\n",
              " \"Where's everyone?\",\n",
              " \"Where's my brush?\",\n",
              " \"Where's my money?\",\n",
              " \"Where's my phone?\",\n",
              " \"Where's my razor?\",\n",
              " \"Where's my towel?\",\n",
              " \"Where's room 303?\",\n",
              " \"Where's the ball?\",\n",
              " \"Where's the boss?\",\n",
              " \"Where's the exit?\",\n",
              " \"Where's the food?\",\n",
              " \"Where's the park?\",\n",
              " \"Where's the rest?\",\n",
              " \"Where's the soap?\",\n",
              " \"Where's your dog?\",\n",
              " \"Where's your hat?\",\n",
              " \"Where's your mom?\",\n",
              " 'Which is cheaper?',\n",
              " 'Which is correct?',\n",
              " 'Which is our car?',\n",
              " 'Which one was it?',\n",
              " 'Which way is out?',\n",
              " 'Who ate with you?',\n",
              " 'Who brought this?',\n",
              " 'Who decided that?',\n",
              " 'Who developed it?',\n",
              " 'Who did you meet?',\n",
              " 'Who do you trust?',\n",
              " 'Who else is here?',\n",
              " 'Who is that lady?',\n",
              " 'Who is this girl?',\n",
              " 'Who is this lady?',\n",
              " 'Who notified you?',\n",
              " 'Who ordered that?',\n",
              " 'Who painted that?',\n",
              " 'Who painted this?',\n",
              " 'Who took my keys?',\n",
              " 'Who will help me?',\n",
              " 'Who would notice?',\n",
              " 'Who wrote Hamlet?',\n",
              " \"Who's had enough?\",\n",
              " \"Who's in command?\",\n",
              " \"Who's in control?\",\n",
              " \"Who's my teacher?\",\n",
              " \"Who's not coming?\",\n",
              " \"Who's the author?\",\n",
              " 'Whose turn is it?',\n",
              " 'Why are you here?',\n",
              " 'Why are you late?',\n",
              " 'Why are you lazy?',\n",
              " \"Why can't I hear?\",\n",
              " \"Why can't I move?\",\n",
              " 'Why did Tom call?',\n",
              " 'Why did you call?',\n",
              " 'Why did you come?',\n",
              " 'Why did you quit?',\n",
              " 'Why did you stop?',\n",
              " 'Why do you study?',\n",
              " 'Why would he lie?',\n",
              " 'Will that be all?',\n",
              " 'Will that change?',\n",
              " 'Will you go, too?',\n",
              " 'Will you help me?',\n",
              " 'Will you join us?',\n",
              " 'Will you shut up?',\n",
              " 'Will you tell me?',\n",
              " 'Winter is coming.',\n",
              " 'Words failed her.',\n",
              " 'Words failed him.',\n",
              " 'Would it help me?',\n",
              " 'X marks the spot.',\n",
              " 'Yolks are yellow.',\n",
              " 'You abandoned me.',\n",
              " 'You all did well.',\n",
              " 'You are a genius.',\n",
              " 'You are blushing.',\n",
              " 'You are children.',\n",
              " 'You are deranged.',\n",
              " 'You are dreaming.',\n",
              " 'You are fabulous.',\n",
              " 'You are gorgeous.',\n",
              " 'You are hopeless.',\n",
              " 'You are not kind.',\n",
              " 'You are to blame.',\n",
              " 'You are too late.',\n",
              " \"You aren't wrong.\",\n",
              " 'You better hurry.',\n",
              " 'You blew it, Tom.',\n",
              " 'You came at five.',\n",
              " 'You came in late.',\n",
              " 'You can all help.',\n",
              " 'You can go there.',\n",
              " 'You can look now.',\n",
              " 'You can trust me.',\n",
              " 'You can trust us.',\n",
              " 'You can use mine.',\n",
              " \"You can't buy me.\",\n",
              " \"You can't go now.\",\n",
              " \"You can't go out.\",\n",
              " \"You can't go yet.\",\n",
              " \"You can't say no.\",\n",
              " 'You deserve more.',\n",
              " 'You deserve this.',\n",
              " 'You did say that.',\n",
              " 'You gave me hope.',\n",
              " 'You had a choice.',\n",
              " 'You have a guest.',\n",
              " 'You have a point.',\n",
              " 'You have a watch.',\n",
              " 'You have my word.',\n",
              " 'You have no idea.',\n",
              " 'You have no life.',\n",
              " 'You have to come.',\n",
              " 'You have to stay.',\n",
              " 'You have to wait.',\n",
              " \"You know I can't.\",\n",
              " 'You know me well.',\n",
              " 'You know the law.',\n",
              " 'You look amazing.',\n",
              " 'You look awesome.',\n",
              " 'You look nervous.',\n",
              " 'You look perfect.',\n",
              " 'You look relaxed.',\n",
              " 'You look so cool.',\n",
              " 'You look so pale.',\n",
              " 'You look younger.',\n",
              " 'You made Tom cry.',\n",
              " 'You made me late.',\n",
              " 'You make me sick.',\n",
              " 'You may be right.',\n",
              " 'You may go there.',\n",
              " 'You may meet him.',\n",
              " 'You may quote me.',\n",
              " 'You missed a lot.',\n",
              " 'You must tell me.',\n",
              " 'You must tell us.',\n",
              " 'You need a drink.',\n",
              " 'You need a hobby.',\n",
              " 'You need to come.',\n",
              " 'You need to rest.',\n",
              " 'You need to stop.',\n",
              " 'You saved us all.',\n",
              " 'You should do it.',\n",
              " 'You were perfect.',\n",
              " 'You were seventh.',\n",
              " 'You were useless.',\n",
              " 'You will obey us.',\n",
              " 'You will survive.',\n",
              " \"You'll like this.\",\n",
              " \"You'll need that.\",\n",
              " \"You'll need this.\",\n",
              " \"You're a big boy.\",\n",
              " \"You're a dreamer.\",\n",
              " \"You're a failure.\",\n",
              " \"You're a lunatic.\",\n",
              " \"You're a man now.\",\n",
              " \"You're a monster.\",\n",
              " \"You're a problem.\",\n",
              " \"You're a traitor.\",\n",
              " \"You're all alone.\",\n",
              " \"You're all crazy.\",\n",
              " \"You're all fired.\",\n",
              " \"You're all happy.\",\n",
              " \"You're all right.\",\n",
              " \"You're ambitious.\",\n",
              " \"You're an artist.\",\n",
              " \"You're assertive.\",\n",
              " \"You're beautiful.\",\n",
              " \"You're conceited.\",\n",
              " \"You're courteous.\",\n",
              " \"You're exhausted.\",\n",
              " \"You're forgetful.\",\n",
              " \"You're fortunate.\",\n",
              " \"You're impatient.\",\n",
              " \"You're in danger.\",\n",
              " \"You're lying now.\",\n",
              " \"You're my friend.\",\n",
              " \"You're my guests.\",\n",
              " \"You're no doctor.\",\n",
              " \"You're no singer.\",\n",
              " \"You're not alone.\",\n",
              " \"You're not dying.\",\n",
              " \"You're not fired.\",\n",
              " \"You're not ready.\",\n",
              " \"You're obnoxious.\",\n",
              " \"You're observant.\",\n",
              " \"You're powerless.\",\n",
              " \"You're prisoners.\",\n",
              " \"You're resilient.\",\n",
              " \"You're safe here.\",\n",
              " \"You're satisfied.\",\n",
              " \"You're shivering.\",\n",
              " \"You're so pretty.\",\n",
              " \"You're talkative.\",\n",
              " \"You're too naive.\",\n",
              " \"You're too tense.\",\n",
              " \"You're unethical.\",\n",
              " \"You're very busy.\",\n",
              " \"You're very good.\",\n",
              " \"You're very late.\",\n",
              " \"You're very nice.\",\n",
              " \"You're very open.\",\n",
              " \"You're very rude.\",\n",
              " \"You're very sick.\",\n",
              " \"You're very tall.\",\n",
              " \"You're very wise.\",\n",
              " \"You're wonderful.\",\n",
              " 'Your car is fast.',\n",
              " 'Your dog is here.',\n",
              " 'Your face is red.',\n",
              " 'Your fly is open!',\n",
              " 'Your plan worked.',\n",
              " 'Your room is big.',\n",
              " 'Yours was better.',\n",
              " 'Zip up your coat.',\n",
              " 'A dog bit her leg.',\n",
              " 'A dog was running.',\n",
              " 'A drunk robbed me.',\n",
              " 'A heavy rain fell.',\n",
              " 'A leaf is falling.',\n",
              " \"A screw's missing.\",\n",
              " 'Add a little milk.',\n",
              " 'Adjust the brakes.',\n",
              " 'Advance two steps.',\n",
              " 'Am I a bad person?',\n",
              " 'Am I going to die?',\n",
              " 'Am I making sense?',\n",
              " 'Am I on that list?',\n",
              " 'Am I overreacting?',\n",
              " 'Am I the only one?',\n",
              " 'Am I under arrest?',\n",
              " 'Any paper will do.',\n",
              " 'Are they Canadian?',\n",
              " 'Are they Japanese?',\n",
              " 'Are they all nuts?',\n",
              " 'Are they brothers?',\n",
              " 'Are they students?',\n",
              " 'Are they worth it?',\n",
              " 'Are you a student?',\n",
              " 'Are you all alone?',\n",
              " 'Are you all ready?',\n",
              " 'Are you all right?',\n",
              " 'Are you ambitious?',\n",
              " 'Are you available?',\n",
              " 'Are you bachelors?',\n",
              " 'Are you confident?',\n",
              " 'Are you contented?',\n",
              " 'Are you from here?',\n",
              " 'Are you going out?',\n",
              " 'Are you guys free?',\n",
              " 'Are you happy now?',\n",
              " 'Are you in Boston?',\n",
              " 'Are you in danger?',\n",
              " 'Are you listening?',\n",
              " 'Are you motivated?',\n",
              " 'Are you our enemy?',\n",
              " 'Are you ready now?',\n",
              " 'Are you religious?',\n",
              " 'Are you saying no?',\n",
              " 'Are you sure, Tom?',\n",
              " 'Are you surprised?',\n",
              " 'Are you the mayor?',\n",
              " 'Are you up for it?',\n",
              " 'Are your eyes bad?',\n",
              " \"Aren't you hungry?\",\n",
              " \"Aren't you sleepy?\",\n",
              " 'Ask me a question.',\n",
              " 'Ask the policeman.',\n",
              " 'Ask your question.',\n",
              " 'Be honest with me.',\n",
              " 'Be kind to others.',\n",
              " 'Be nice to others.',\n",
              " 'Behave like a man.',\n",
              " 'Beware of the dog!',\n",
              " 'Birds build nests.',\n",
              " 'Boys will be boys.',\n",
              " \"Break time's over.\",\n",
              " 'Breathe in deeply.',\n",
              " 'Bring me my shoes.',\n",
              " 'But I was careful.',\n",
              " 'Call an ambulance.',\n",
              " 'Call her tomorrow.',\n",
              " 'Can I ask why not?',\n",
              " 'Can I come in now?',\n",
              " 'Can I dial direct?',\n",
              " 'Can I do anything?',\n",
              " 'Can I go home now?',\n",
              " 'Can I make copies?',\n",
              " 'Can I rely on you?',\n",
              " 'Can I talk to you?',\n",
              " 'Can I try this on?',\n",
              " 'Can Tom get a dog?',\n",
              " 'Can all birds fly?',\n",
              " 'Can the baby walk?',\n",
              " 'Can we get closer?',\n",
              " 'Can we go fishing?',\n",
              " 'Can we reschedule?',\n",
              " 'Can you afford it?',\n",
              " 'Can you beat that?',\n",
              " 'Can you elaborate?',\n",
              " 'Can you go faster?',\n",
              " 'Can you handle it?',\n",
              " 'Can you jump rope?',\n",
              " 'Can you read that?',\n",
              " \"Can't you help us?\",\n",
              " 'Carry this for me.',\n",
              " 'Champagne, please.',\n",
              " 'Choose one person.',\n",
              " 'Christmas is soon.',\n",
              " 'Click on the link.',\n",
              " 'Close that drawer.',\n",
              " 'Cocaine is a drug.',\n",
              " 'Come a bit closer.',\n",
              " 'Come and see this.',\n",
              " 'Come here at once.',\n",
              " 'Come here quickly.',\n",
              " 'Come home at once.',\n",
              " 'Come into my arms.',\n",
              " 'Come into my room.',\n",
              " 'Come on, admit it.',\n",
              " 'Come on, trust me.',\n",
              " 'Come play with us.',\n",
              " 'Come to my office.',\n",
              " 'Compare the facts.',\n",
              " 'Control your fear.',\n",
              " 'Could you do that?',\n",
              " 'Cows give us milk.',\n",
              " \"Crime doesn't pay.\",\n",
              " 'Cut off the power.',\n",
              " 'Cut the power off.',\n",
              " 'Deal us the cards.',\n",
              " 'Defend yourselves.',\n",
              " 'Did I do all that?',\n",
              " 'Did I fall asleep?',\n",
              " 'Did I startle you?',\n",
              " 'Did I wake you up?',\n",
              " 'Did Tom seem busy?',\n",
              " 'Did they hurt you?',\n",
              " 'Did you buy a car?',\n",
              " 'Did you buy a gun?',\n",
              " 'Did you hear that?',\n",
              " 'Did you know that?',\n",
              " 'Did you live here?',\n",
              " 'Did you make this?',\n",
              " 'Did you read them?',\n",
              " 'Did you send them?',\n",
              " 'Did you shoot Tom?',\n",
              " 'Did you wash that?',\n",
              " \"Didn't you go out?\",\n",
              " 'Diet is important.',\n",
              " 'Disable the alarm.',\n",
              " 'Do I have a fever?',\n",
              " 'Do ants have ears?',\n",
              " \"Do as you're told.\",\n",
              " 'Do it by yourself.',\n",
              " 'Do they like wine?',\n",
              " 'Do we have a deal?',\n",
              " 'Do you drink beer?',\n",
              " 'Do you drink wine?',\n",
              " 'Do you ever sleep?',\n",
              " 'Do you feel lucky?',\n",
              " 'Do you guys smoke?',\n",
              " 'Do you have a bag?',\n",
              " 'Do you have a car?',\n",
              " 'Do you have a dog?',\n",
              " 'Do you have a map?',\n",
              " 'Do you have a pen?',\n",
              " 'Do you have a pet?',\n",
              " 'Do you have a sec?',\n",
              " 'Do you have a son?',\n",
              " 'Do you have money?',\n",
              " 'Do you have paper?',\n",
              " 'Do you know Latin?',\n",
              " 'Do you like music?',\n",
              " 'Do you like trips?',\n",
              " 'Do you live alone?',\n",
              " 'Do you love music?',\n",
              " 'Do you mean to go?',\n",
              " 'Do you need a bag?',\n",
              " 'Do you need money?',\n",
              " 'Do you see a rose?',\n",
              " 'Do you see a star?',\n",
              " 'Do you smell that?',\n",
              " 'Do you swim often?',\n",
              " 'Do you understand?',\n",
              " 'Do you want a cab?',\n",
              " 'Do you want a car?',\n",
              " 'Do you want a job?',\n",
              " 'Do you want to go?',\n",
              " 'Do you wish to go?',\n",
              " 'Do your very best.',\n",
              " 'Does Tom eat eggs?',\n",
              " 'Does Tom know why?',\n",
              " 'Does he live here?',\n",
              " 'Does she know you?',\n",
              " 'Does that mean no?',\n",
              " 'Does truth matter?',\n",
              " 'Dogs are faithful.',\n",
              " \"Don't answer that.\",\n",
              " \"Don't be ignorant.\",\n",
              " \"Don't be so angry.\",\n",
              " \"Don't be so silly.\",\n",
              " \"Don't count on it.\",\n",
              " \"Don't deceive him.\",\n",
              " \"Don't do it again.\",\n",
              " \"Don't do that now.\",\n",
              " \"Don't eat garbage.\",\n",
              " \"Don't even try it.\",\n",
              " \"Don't fall asleep.\",\n",
              " \"Don't fire anyone.\",\n",
              " \"Don't forget that.\",\n",
              " \"Don't get excited.\",\n",
              " \"Don't go in there.\",\n",
              " \"Don't hurt anyone.\",\n",
              " \"Don't laugh at me.\",\n",
              " \"Don't let me down.\",\n",
              " \"Don't look for us.\",\n",
              " \"Don't look so sad.\",\n",
              " \"Don't make a fuss.\",\n",
              " \"Don't make me beg.\",\n",
              " \"Don't rely on him.\",\n",
              " \"Don't repeat that.\",\n",
              " \"Don't run so fast.\",\n",
              " \"Don't rush things.\",\n",
              " \"Don't screw it up!\",\n",
              " \"Don't talk to Tom.\",\n",
              " \"Don't tell anyone.\",\n",
              " \"Don't threaten me.\",\n",
              " \"Don't turn around.\",\n",
              " \"Don't wait for me.\",\n",
              " \"Don't wake her up.\",\n",
              " \"Don't you go away.\",\n",
              " \"Don't you like us?\",\n",
              " 'Drop your weapons!',\n",
              " 'Earth is a planet.',\n",
              " 'Even my mom knows.',\n",
              " 'Every bus is full.',\n",
              " 'Everybody cheered.',\n",
              " 'Everybody is fine.',\n",
              " 'Everybody is sore.',\n",
              " \"Everybody's happy.\",\n",
              " \"Everybody's tired.\",\n",
              " 'Everyone got sick.',\n",
              " 'Everyone is angry.',\n",
              " 'Everyone is drunk.',\n",
              " 'Everyone is going.',\n",
              " 'Everyone is happy.',\n",
              " 'Everyone is ready.',\n",
              " 'Everyone is tired.',\n",
              " 'Everyone knows me.',\n",
              " 'Everyone sat down.',\n",
              " ...]"
            ]
          },
          "execution_count": 35,
          "metadata": {},
          "output_type": "execute_result"
        }
      ],
      "source": [
        "eng_phrases_subset = eng_phrases[10000:21000]\n",
        "translations = translator(eng_phrases_subset)\n",
        "eng_phrases_subset"
      ]
    },
    {
      "cell_type": "code",
      "execution_count": 37,
      "metadata": {
        "colab": {
          "base_uri": "https://localhost:8080/"
        },
        "id": "h-Pn5Nw6oOcd",
        "outputId": "5d5a2fd2-1a93-46c3-9281-2933177d9d14"
      },
      "outputs": [
        {
          "name": "stdout",
          "output_type": "stream",
          "text": [
            "Original english sentence:  They all watched.\n",
            "Original french sentence:  ['Ils ont tous regardé.', 'Elles ont toutes regardé.']\n",
            "Translated sentence:  Ils ont tous regardé.\n"
          ]
        }
      ],
      "source": [
        "print(\"Original english sentence: \",eng_phrases_subset[0])\n",
        "print(\"Original french sentence: \",list(eng2fr.values())[10000:21000][0])\n",
        "print(\"Translated sentence: \",translations[0]['translation_text'])"
      ]
    },
    {
      "cell_type": "code",
      "execution_count": 39,
      "metadata": {
        "colab": {
          "base_uri": "https://localhost:8080/"
        },
        "id": "O8j2SpaOoOhe",
        "outputId": "e477ab12-3947-4e57-d0e2-5f89a8ea0606"
      },
      "outputs": [
        {
          "name": "stdout",
          "output_type": "stream",
          "text": [
            "Original english sentence:  They are Russian.\n",
            "Original french sentence:  ['Ils sont russes.', 'Elles sont russes.']\n",
            "Translated sentence:  Ils sont russes.\n"
          ]
        }
      ],
      "source": [
        "print(\"Original english sentence: \",eng_phrases_subset[1])\n",
        "print(\"Original french sentence: \",list(eng2fr.values())[10000:21000][1])\n",
        "print(\"Translated sentence: \",translations[1]['translation_text'])"
      ]
    },
    {
      "cell_type": "code",
      "execution_count": 40,
      "metadata": {
        "colab": {
          "base_uri": "https://localhost:8080/"
        },
        "id": "fFLnJ9vkpPBg",
        "outputId": "9ad34784-1753-495d-efa7-739eb308e73d"
      },
      "outputs": [
        {
          "name": "stdout",
          "output_type": "stream",
          "text": [
            "Original english sentence:  They are arguing.\n",
            "Original french sentence:  ['Ils se disputent.', 'Ils sont en train de se disputer.']\n",
            "Translated sentence:  Ils se disputent.\n"
          ]
        }
      ],
      "source": [
        "print(\"Original english sentence: \",eng_phrases_subset[2])\n",
        "print(\"Original french sentence: \",list(eng2fr.values())[10000:21000][2])\n",
        "print(\"Translated sentence: \",translations[2]['translation_text'])"
      ]
    },
    {
      "cell_type": "code",
      "execution_count": 41,
      "metadata": {
        "colab": {
          "base_uri": "https://localhost:8080/"
        },
        "id": "IUiKBfnCpPIR",
        "outputId": "baa10b14-bd1a-4996-89d4-002346bf0bfa"
      },
      "outputs": [
        {
          "name": "stdout",
          "output_type": "stream",
          "text": [
            "Original english sentence:  They are artists.\n",
            "Original french sentence:  ['Ils sont artistes.', 'Elles sont artistes.']\n",
            "Translated sentence:  Ce sont des artistes.\n"
          ]
        }
      ],
      "source": [
        "print(\"Original english sentence: \",eng_phrases_subset[3])\n",
        "print(\"Original french sentence: \",list(eng2fr.values())[10000:21000][3])\n",
        "print(\"Translated sentence: \",translations[3]['translation_text'])"
      ]
    },
    {
      "cell_type": "code",
      "execution_count": 42,
      "metadata": {
        "colab": {
          "base_uri": "https://localhost:8080/"
        },
        "id": "e-Zg4tx9pPL5",
        "outputId": "22aa049f-6b20-4d4f-ea5c-e2eb4c5313f3"
      },
      "outputs": [
        {
          "name": "stdout",
          "output_type": "stream",
          "text": [
            "Original english sentence:  They are doctors.\n",
            "Original french sentence:  ['Ils sont médecins.', 'Elles sont médecins.']\n",
            "Translated sentence:  Ce sont des médecins.\n"
          ]
        }
      ],
      "source": [
        "print(\"Original english sentence: \",eng_phrases_subset[4])\n",
        "print(\"Original french sentence: \",list(eng2fr.values())[10000:21000][4])\n",
        "print(\"Translated sentence: \",translations[4]['translation_text'])"
      ]
    },
    {
      "cell_type": "code",
      "execution_count": 43,
      "metadata": {
        "colab": {
          "base_uri": "https://localhost:8080/"
        },
        "id": "wO5MXQ4VpPO0",
        "outputId": "37bfb428-a3fe-4615-cdb8-2ffb10f338d6"
      },
      "outputs": [
        {
          "name": "stdout",
          "output_type": "stream",
          "text": [
            "Original english sentence:  They are singers.\n",
            "Original french sentence:  ['Ils sont chanteurs.']\n",
            "Translated sentence:  Ce sont des chanteurs.\n"
          ]
        }
      ],
      "source": [
        "print(\"Original english sentence: \",eng_phrases_subset[5])\n",
        "print(\"Original french sentence: \",list(eng2fr.values())[10000:21000][5])\n",
        "print(\"Translated sentence: \",translations[5]['translation_text'])"
      ]
    },
    {
      "cell_type": "code",
      "execution_count": 44,
      "metadata": {
        "colab": {
          "base_uri": "https://localhost:8080/"
        },
        "id": "TjgDGHqoL_yb",
        "outputId": "f28f9b36-4936-462d-b96c-5121ec059f59"
      },
      "outputs": [
        {
          "name": "stdout",
          "output_type": "stream",
          "text": [
            "Original english sentence:  They blocked her.\n",
            "Original french sentence:  [\"Ils l'ont bloquée.\"]\n",
            "Translated sentence:  Ils l'ont bloquée.\n"
          ]
        }
      ],
      "source": [
        "print(\"Original english sentence: \",eng_phrases_subset[6])\n",
        "print(\"Original french sentence: \",list(eng2fr.values())[10000:21000][6])\n",
        "print(\"Translated sentence: \",translations[6]['translation_text'])"
      ]
    },
    {
      "cell_type": "code",
      "execution_count": 45,
      "metadata": {
        "colab": {
          "base_uri": "https://localhost:8080/"
        },
        "id": "fEUaHzFsL_2-",
        "outputId": "92e9355c-0fd3-4abb-85ce-3d9e82556ade"
      },
      "outputs": [
        {
          "name": "stdout",
          "output_type": "stream",
          "text": [
            "Original english sentence:  They calmed down.\n",
            "Original french sentence:  ['Elles se sont calmées.']\n",
            "Translated sentence:  Ils se sont calmés.\n"
          ]
        }
      ],
      "source": [
        "print(\"Original english sentence: \",eng_phrases_subset[7])\n",
        "print(\"Original french sentence: \",list(eng2fr.values())[10000:21000][7])\n",
        "print(\"Translated sentence: \",translations[7]['translation_text'])"
      ]
    },
    {
      "cell_type": "code",
      "execution_count": 46,
      "metadata": {
        "colab": {
          "base_uri": "https://localhost:8080/"
        },
        "id": "lv_XrxW3MHxO",
        "outputId": "2d59821d-3637-48e1-f9d3-3287d5cd7f06"
      },
      "outputs": [
        {
          "name": "stdout",
          "output_type": "stream",
          "text": [
            "Original english sentence:  They deceived us.\n",
            "Original french sentence:  ['Ils nous ont trompés.', 'Elles nous ont trompés.']\n",
            "Translated sentence:  Ils nous ont trompés.\n"
          ]
        }
      ],
      "source": [
        "print(\"Original english sentence: \",eng_phrases_subset[8])\n",
        "print(\"Original french sentence: \",list(eng2fr.values())[10000:21000][8])\n",
        "print(\"Translated sentence: \",translations[8]['translation_text'])"
      ]
    },
    {
      "cell_type": "code",
      "execution_count": 48,
      "metadata": {
        "colab": {
          "base_uri": "https://localhost:8080/"
        },
        "id": "UuxYPq9ML_6H",
        "outputId": "5685f0d1-4bb2-45fb-f148-256ac6861f23"
      },
      "outputs": [
        {
          "name": "stdout",
          "output_type": "stream",
          "text": [
            "Original english sentence:  They deserved it.\n",
            "Original french sentence:  [\"Elles l'ont mérité.\", \"Ils l'ont mérité.\"]\n",
            "Translated sentence:  Ils le méritaient.\n"
          ]
        }
      ],
      "source": [
        "print(\"Original english sentence: \",eng_phrases_subset[9])\n",
        "print(\"Original french sentence: \",list(eng2fr.values())[10000:21000][9])\n",
        "print(\"Translated sentence: \",translations[9]['translation_text'])"
      ]
    },
    {
      "cell_type": "code",
      "execution_count": 49,
      "metadata": {
        "colab": {
          "base_uri": "https://localhost:8080/"
        },
        "id": "P5xJcVljMtIt",
        "outputId": "09af476d-a0a9-4baa-e80a-e4c71b1ad50d"
      },
      "outputs": [
        {
          "name": "stdout",
          "output_type": "stream",
          "text": [
            "Original english sentence:  They despise you.\n",
            "Original french sentence:  ['Elles te méprisent.', 'Ils te méprisent.', 'Elles vous méprisent.', 'Ils vous méprisent.']\n",
            "Translated sentence:  Ils te méprisent.\n"
          ]
        }
      ],
      "source": [
        "print(\"Original english sentence: \",eng_phrases_subset[10])\n",
        "print(\"Original french sentence: \",list(eng2fr.values())[10000:21000][10])\n",
        "print(\"Translated sentence: \",translations[10]['translation_text'])"
      ]
    },
    {
      "cell_type": "code",
      "execution_count": 50,
      "metadata": {
        "colab": {
          "base_uri": "https://localhost:8080/"
        },
        "id": "eqnOoJrNMtLW",
        "outputId": "2db8d463-71ee-48d5-dfcd-8650ae6685aa"
      },
      "outputs": [
        {
          "name": "stdout",
          "output_type": "stream",
          "text": [
            "Original english sentence:  They did nothing.\n",
            "Original french sentence:  [\"Ils n'ont rien fait.\"]\n",
            "Translated sentence:  Ils n'ont rien fait.\n"
          ]
        }
      ],
      "source": [
        "print(\"Original english sentence: \",eng_phrases_subset[11])\n",
        "print(\"Original french sentence: \",list(eng2fr.values())[10000:21000][11])\n",
        "print(\"Translated sentence: \",translations[11]['translation_text'])"
      ]
    },
    {
      "cell_type": "code",
      "execution_count": null,
      "metadata": {
        "id": "57XAY2Z9MtOO"
      },
      "outputs": [],
      "source": [
        "print(\"Original english sentence: \",eng_phrases_subset[12])\n",
        "print(\"Original french sentence: \",list(eng2fr.values())[10000:21000][12])\n",
        "print(\"Translated sentence: \",translations[12]['translation_text'])"
      ]
    },
    {
      "cell_type": "code",
      "execution_count": null,
      "metadata": {
        "id": "j1qy7-egMtTL"
      },
      "outputs": [],
      "source": []
    }
  ],
  "metadata": {
    "colab": {
      "provenance": []
    },
    "kernelspec": {
      "display_name": "Python 3 (ipykernel)",
      "language": "python",
      "name": "python3"
    }
  },
  "nbformat": 4,
  "nbformat_minor": 0
}
